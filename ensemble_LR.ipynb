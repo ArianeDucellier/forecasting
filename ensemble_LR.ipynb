{
 "cells": [
  {
   "cell_type": "markdown",
   "id": "13e5d7df-21fc-47e7-877c-fb5faf5086a5",
   "metadata": {},
   "source": [
    "# Ensemble method - Linear regression"
   ]
  },
  {
   "cell_type": "markdown",
   "id": "9f66265e-be77-4d70-9859-78cd918586b8",
   "metadata": {},
   "source": [
    "Notebook to look at forecasts made using ensemble methods (bagging) and linear regression."
   ]
  },
  {
   "cell_type": "code",
   "execution_count": 1,
   "id": "237ad559-095d-4484-80c0-33bfefff6c80",
   "metadata": {},
   "outputs": [],
   "source": [
    "import matplotlib.pyplot as plt\n",
    "import numpy as np\n",
    "import pandas as pd\n",
    "\n",
    "from datetime import datetime\n",
    "from dateutil.relativedelta import relativedelta\n",
    "from math import sqrt\n",
    "\n",
    "from sklearn.metrics import mean_squared_error, mean_absolute_error, \\\n",
    "    mean_absolute_percentage_error, r2_score"
   ]
  },
  {
   "cell_type": "code",
   "execution_count": 2,
   "id": "09cbbe98-2c69-44c2-b9fd-c3d69ae6d6eb",
   "metadata": {},
   "outputs": [],
   "source": [
    "from ensemble_LR import backtest"
   ]
  },
  {
   "cell_type": "code",
   "execution_count": null,
   "id": "cb2209ff-e210-41a4-b2e1-bbff339e4347",
   "metadata": {},
   "outputs": [],
   "source": [
    "ds_begin = datetime(2021, 7, 1)\n",
    "ds_end = datetime(2023, 5, 1)\n",
    "dates = pd.date_range(ds_begin, ds_end + relativedelta(months=1), freq='1M') - \\\n",
    "pd.offsets.MonthBegin(1)"
   ]
  },
  {
   "cell_type": "markdown",
   "id": "60263c9e-0977-4704-a47c-442906b99145",
   "metadata": {},
   "source": [
    "## Predictions when removing the seasonality"
   ]
  },
  {
   "cell_type": "code",
   "execution_count": 5,
   "id": "9b67445a-8c64-4636-983a-22a6ccfdbc8f",
   "metadata": {},
   "outputs": [
    {
     "name": "stdout",
     "output_type": "stream",
     "text": [
      "    Unnamed: 0  n_estimators  max_samples       MSE      RMSE       MAE  \\\n",
      "0            0            10          0.5  0.000042  0.006512  0.005572   \n",
      "1            0            10          0.6  0.000376  0.019397  0.009489   \n",
      "2            0            10          0.7  0.000025  0.005010  0.003931   \n",
      "3            0            10          0.8  0.000020  0.004499  0.003455   \n",
      "4            0            10          0.9  0.000020  0.004424  0.003531   \n",
      "5            0            20          0.5  0.000132  0.011490  0.007268   \n",
      "6            0            20          0.6  0.000121  0.010983  0.006666   \n",
      "7            0            20          0.7  0.000021  0.004591  0.003697   \n",
      "8            0            20          0.8  0.000020  0.004454  0.003566   \n",
      "9            0            20          0.9  0.000019  0.004369  0.003468   \n",
      "10           0            50          0.5  0.000050  0.007105  0.005343   \n",
      "11           0            50          0.6  0.000049  0.007005  0.005386   \n",
      "12           0            50          0.7  0.000025  0.005013  0.004040   \n",
      "13           0            50          0.8  0.000023  0.004774  0.003946   \n",
      "14           0            50          0.9  0.000021  0.004630  0.003794   \n",
      "15           0           100          0.5  0.000048  0.006962  0.005593   \n",
      "16           0           100          0.6  0.000030  0.005516  0.004503   \n",
      "17           0           100          0.7  0.000022  0.004710  0.003938   \n",
      "18           0           100          0.8  0.000021  0.004590  0.003836   \n",
      "19           0           100          0.9  0.000021  0.004592  0.003813   \n",
      "20           0           200          0.5  0.000027  0.005190  0.004123   \n",
      "21           0           200          0.6  0.000025  0.005010  0.004172   \n",
      "22           0           200          0.7  0.000022  0.004714  0.003949   \n",
      "23           0           200          0.8  0.000021  0.004626  0.003893   \n",
      "24           0           200          0.9  0.000021  0.004623  0.003880   \n",
      "\n",
      "        MAPE        R2  \n",
      "0   1.144064  0.595728  \n",
      "1   5.407346 -2.587106  \n",
      "2   0.707306  0.760753  \n",
      "3   0.678166  0.807028  \n",
      "4   0.680710  0.813376  \n",
      "5   1.747052 -0.258720  \n",
      "6   3.211847 -0.149932  \n",
      "7   0.738279  0.799048  \n",
      "8   0.717578  0.810888  \n",
      "9   0.653733  0.818010  \n",
      "10  1.234609  0.518746  \n",
      "11  1.909739  0.532229  \n",
      "12  0.842339  0.760438  \n",
      "13  0.813826  0.782712  \n",
      "14  0.761639  0.795615  \n",
      "15  1.961266  0.537897  \n",
      "16  1.343540  0.709938  \n",
      "17  0.839824  0.788500  \n",
      "18  0.828895  0.799168  \n",
      "19  0.796686  0.798969  \n",
      "20  0.871542  0.743165  \n",
      "21  1.089707  0.760755  \n",
      "22  0.859881  0.788149  \n",
      "23  0.855768  0.796019  \n",
      "24  0.825650  0.796209  \n"
     ]
    }
   ],
   "source": [
    "error = pd.read_csv('ensemble_LR/errors_sa.csv')\n",
    "print(error)"
   ]
  },
  {
   "cell_type": "markdown",
   "id": "f43eb897-be4b-410e-ac5c-7c4f6ba7f13a",
   "metadata": {},
   "source": [
    "We get the best results for n_estimator = 20 and max_sample = 0.9. Let us plot the predictions."
   ]
  },
  {
   "cell_type": "code",
   "execution_count": 12,
   "id": "6fcaaacc-285c-445d-bf0b-ad61a4f28f18",
   "metadata": {},
   "outputs": [],
   "source": [
    "features_sa = [('sales_raw', 1),\n",
    "               ('inventory_raw', 1),\n",
    "               ('new_listings_raw', 1),\n",
    "               ('mean_days_to_pending_raw', 1),\n",
    "               ('mean_sale_to_list_ratio_raw', 2),\n",
    "               ('median_days_to_pending_raw', 1),\n",
    "               ('median_sale_to_list_ratio_raw', 2),\n",
    "               ('newly_pending_listings_raw', 1),\n",
    "               ('pct_listings_price_cut_raw', 1),\n",
    "               ('pct_sold_above_list_price_raw', 2),\n",
    "               ('pct_sold_below_list_price_raw', 2)]"
   ]
  },
  {
   "cell_type": "code",
   "execution_count": 13,
   "id": "802e2e7d-c21d-445f-b9fb-644d312ab59e",
   "metadata": {},
   "outputs": [],
   "source": [
    "(y, y_hat) = backtest(features_sa, 20, 0.9, ds_begin, ds_end, 36, True)"
   ]
  },
  {
   "cell_type": "code",
   "execution_count": 6,
   "id": "1d59caf4-798e-4d4e-b41d-f667d37ac964",
   "metadata": {},
   "outputs": [],
   "source": [
    "MSE = mean_squared_error(y, y_hat)\n",
    "RMSE = sqrt(mean_squared_error(y, y_hat))\n",
    "MAE = mean_absolute_error(y, y_hat)\n",
    "MAPE = mean_absolute_percentage_error(y, y_hat)\n",
    "R2 = r2_score(y, y_hat)"
   ]
  },
  {
   "cell_type": "code",
   "execution_count": 15,
   "id": "14fe0e84-efdc-4b43-b5fe-e9cef89211a4",
   "metadata": {},
   "outputs": [
    {
     "name": "stderr",
     "output_type": "stream",
     "text": [
      "The PostScript backend does not support transparency; partially transparent artists will be rendered opaque.\n"
     ]
    },
    {
     "data": {
      "image/png": "[encoded data removed]",
      "text/plain": [
       "<Figure size 432x288 with 1 Axes>"
      ]
     },
     "metadata": {
      "needs_background": "light"
     },
     "output_type": "display_data"
    }
   ],
   "source": [
    "fig, ax = plt.subplots()\n",
    "\n",
    "plt.plot(dates, 100 * y, 'b-', label='Actual')\n",
    "plt.plot(dates, 100 * y_hat, 'r-', label='Predicted')\n",
    "\n",
    "plt.xlabel('Date', fontsize=16)\n",
    "plt.ylabel('Home price growth (%)', fontsize=16)\n",
    "ax.tick_params(axis='x', labelsize=16)\n",
    "ax.tick_params(axis='y', labelsize=16)\n",
    "ax.xaxis.set_ticks([datetime(2021, 10, 1), datetime(2022, 6, 1), datetime(2023, 2, 1)])\n",
    "plt.legend(fontsize=12)\n",
    "plt.title('Home price growth (%)', fontsize=16)\n",
    "\n",
    "plt.tight_layout()\n",
    "plt.savefig('figures/ensemble_LR.eps', format='eps')\n",
    "plt.show()"
   ]
  },
  {
   "cell_type": "markdown",
   "id": "7c327d04-4fc7-4378-9337-50f0fe1499f6",
   "metadata": {},
   "source": [
    "## Predictions when keeping the seasonality"
   ]
  },
  {
   "cell_type": "code",
   "execution_count": 16,
   "id": "ef066259-99cd-40ae-849b-dd2e1bc1a5c0",
   "metadata": {},
   "outputs": [
    {
     "name": "stdout",
     "output_type": "stream",
     "text": [
      "    Unnamed: 0  n_estimators  max_samples       MSE      RMSE       MAE  \\\n",
      "0            0            10          0.5  0.005079  0.071266  0.027019   \n",
      "1            0            10          0.6  0.001787  0.042273  0.020601   \n",
      "2            0            10          0.7  0.000094  0.009696  0.006994   \n",
      "3            0            10          0.8  0.000047  0.006890  0.005655   \n",
      "4            0            10          0.9  0.000035  0.005951  0.005053   \n",
      "5            0            20          0.5  0.001250  0.035357  0.019262   \n",
      "6            0            20          0.6  0.000453  0.021285  0.012200   \n",
      "7            0            20          0.7  0.000058  0.007638  0.006145   \n",
      "8            0            20          0.8  0.000044  0.006643  0.005586   \n",
      "9            0            20          0.9  0.000038  0.006142  0.005303   \n",
      "10           0            50          0.5  0.001000  0.031623  0.020789   \n",
      "11           0            50          0.6  0.000116  0.010771  0.007109   \n",
      "12           0            50          0.7  0.000042  0.006501  0.005699   \n",
      "13           0            50          0.8  0.000043  0.006548  0.005661   \n",
      "14           0            50          0.9  0.000040  0.006304  0.005399   \n",
      "15           0           100          0.5  0.000985  0.031381  0.018992   \n",
      "16           0           100          0.6  0.000051  0.007143  0.005168   \n",
      "17           0           100          0.7  0.000032  0.005623  0.004943   \n",
      "18           0           100          0.8  0.000037  0.006057  0.005269   \n",
      "19           0           100          0.9  0.000037  0.006110  0.005285   \n",
      "20           0           200          0.5  0.000465  0.021573  0.012584   \n",
      "21           0           200          0.6  0.000077  0.008769  0.006779   \n",
      "22           0           200          0.7  0.000038  0.006131  0.005213   \n",
      "23           0           200          0.8  0.000038  0.006173  0.005278   \n",
      "24           0           200          0.9  0.000038  0.006155  0.005228   \n",
      "\n",
      "         MAPE         R2  \n",
      "0    4.771435 -47.419847  \n",
      "1   10.071085 -16.036632  \n",
      "2    2.740236   0.103691  \n",
      "3    2.158258   0.547416  \n",
      "4    1.859009   0.662346  \n",
      "5    3.378704 -10.917736  \n",
      "6    4.990882  -3.319038  \n",
      "7    2.239654   0.443778  \n",
      "8    1.975493   0.579316  \n",
      "9    2.023355   0.640332  \n",
      "10   5.240309  -8.533541  \n",
      "11   2.403285  -0.105975  \n",
      "12   1.793130   0.597141  \n",
      "13   1.785717   0.591234  \n",
      "14   2.009655   0.621169  \n",
      "15   3.984949  -8.388353  \n",
      "16   1.315576   0.513594  \n",
      "17   1.759244   0.698587  \n",
      "18   1.768510   0.650261  \n",
      "19   1.914254   0.644093  \n",
      "20   2.432938  -3.436796  \n",
      "21   1.538993   0.266997  \n",
      "22   1.811836   0.641644  \n",
      "23   1.847498   0.636753  \n",
      "24   1.938741   0.638873  \n"
     ]
    }
   ],
   "source": [
    "error = pd.read_csv('ensemble_LR/errors_nsa.csv')\n",
    "print(error)"
   ]
  },
  {
   "cell_type": "markdown",
   "id": "7848fa97-dd6f-4d19-9d2a-22c0620ffe2e",
   "metadata": {},
   "source": [
    "We get the best results for n_estimator = 100 and max_sample = 0.7. Let us plot the predictions."
   ]
  },
  {
   "cell_type": "code",
   "execution_count": 23,
   "id": "ba68d576-d774-4f51-a635-21f6bad25f1e",
   "metadata": {},
   "outputs": [],
   "source": [
    "features_nsa = [('sales_raw', 1),\n",
    "                ('inventory_raw', 2),\n",
    "                ('new_listings_raw', 5),\n",
    "                ('mean_days_to_pending_raw', 1),\n",
    "                ('mean_sale_to_list_ratio_raw', 2),\n",
    "                ('median_days_to_pending_raw', 1),\n",
    "                ('median_sale_to_list_ratio_raw', 2),\n",
    "                ('newly_pending_listings_raw', 1),\n",
    "                ('pct_listings_price_cut_raw', 2),\n",
    "                ('pct_sold_above_list_price_raw', 2),\n",
    "                ('pct_sold_below_list_price_raw', 2)]"
   ]
  },
  {
   "cell_type": "code",
   "execution_count": 24,
   "id": "33d0f237-0af2-4dea-8cf1-8fa240f22f9e",
   "metadata": {},
   "outputs": [],
   "source": [
    "(y, y_hat) = backtest(features_nsa, 100, 0.7, ds_begin, ds_end, 36, False)"
   ]
  },
  {
   "cell_type": "code",
   "execution_count": 25,
   "id": "a702f93c-7e87-407b-905c-22b0a3eab93e",
   "metadata": {},
   "outputs": [],
   "source": [
    "MSE = mean_squared_error(y, y_hat)\n",
    "RMSE = sqrt(mean_squared_error(y, y_hat))\n",
    "MAE = mean_absolute_error(y, y_hat)\n",
    "MAPE = mean_absolute_percentage_error(y, y_hat)\n",
    "R2 = r2_score(y, y_hat)"
   ]
  },
  {
   "cell_type": "code",
   "execution_count": 26,
   "id": "91033a83-334d-4b6a-a0ce-95088802085f",
   "metadata": {},
   "outputs": [
    {
     "data": {
      "text/plain": [
       "Text(0.5, 1.0, 'Non seasonally adjusted ensemble model')"
      ]
     },
     "execution_count": 26,
     "metadata": {},
     "output_type": "execute_result"
    },
    {
     "data": {
      "image/png": "[encoded data removed]",
      "text/plain": [
       "<Figure size 432x288 with 1 Axes>"
      ]
     },
     "metadata": {
      "needs_background": "light"
     },
     "output_type": "display_data"
    }
   ],
   "source": [
    "plt.plot(dates, 100 * y, 'b-', label='Actual')\n",
    "plt.plot(dates, 100 * y_hat, 'r-', label='Predicted')\n",
    "plt.xlabel('Date')\n",
    "plt.ylabel('Home price growth (%)')\n",
    "plt.legend()\n",
    "plt.title('Non seasonally adjusted ensemble model')"
   ]
  },
  {
   "cell_type": "code",
   "execution_count": null,
   "id": "bf1b5cd0-06c1-49a1-897f-fd48a0eeed71",
   "metadata": {},
   "outputs": [],
   "source": []
  }
 ],
 "metadata": {
  "kernelspec": {
   "display_name": "Python 3 (ipykernel)",
   "language": "python",
   "name": "python3"
  },
  "language_info": {
   "codemirror_mode": {
    "name": "ipython",
    "version": 3
   },
   "file_extension": ".py",
   "mimetype": "text/x-python",
   "name": "python",
   "nbconvert_exporter": "python",
   "pygments_lexer": "ipython3",
   "version": "3.7.12"
  }
 },
 "nbformat": 4,
 "nbformat_minor": 5
}
