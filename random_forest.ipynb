{
 "cells": [
  {
   "cell_type": "markdown",
   "id": "13e5d7df-21fc-47e7-877c-fb5faf5086a5",
   "metadata": {},
   "source": [
    "# Random forest"
   ]
  },
  {
   "cell_type": "markdown",
   "id": "9f66265e-be77-4d70-9859-78cd918586b8",
   "metadata": {},
   "source": [
    "Notebook to look at forecasts made using random forest."
   ]
  },
  {
   "cell_type": "code",
   "execution_count": 1,
   "id": "237ad559-095d-4484-80c0-33bfefff6c80",
   "metadata": {},
   "outputs": [],
   "source": [
    "import matplotlib.pyplot as plt\n",
    "import numpy as np\n",
    "import pandas as pd\n",
    "\n",
    "from datetime import datetime\n",
    "from dateutil.relativedelta import relativedelta\n",
    "from math import sqrt\n",
    "\n",
    "from sklearn.metrics import mean_squared_error, mean_absolute_error, \\\n",
    "    mean_absolute_percentage_error, r2_score"
   ]
  },
  {
   "cell_type": "code",
   "execution_count": 2,
   "id": "09cbbe98-2c69-44c2-b9fd-c3d69ae6d6eb",
   "metadata": {},
   "outputs": [],
   "source": [
    "from random_forest import backtest"
   ]
  },
  {
   "cell_type": "code",
   "execution_count": 3,
   "id": "cb2209ff-e210-41a4-b2e1-bbff339e4347",
   "metadata": {},
   "outputs": [],
   "source": [
    "ds_begin = datetime(2021, 7, 1)\n",
    "ds_end = datetime(2023, 5, 1)\n",
    "dates = pd.date_range(ds_begin, ds_end + relativedelta(months=1), freq='1M') - \\\n",
    "pd.offsets.MonthBegin(1)"
   ]
  },
  {
   "cell_type": "markdown",
   "id": "60263c9e-0977-4704-a47c-442906b99145",
   "metadata": {},
   "source": [
    "## Predictions when removing the seasonality"
   ]
  },
  {
   "cell_type": "code",
   "execution_count": 4,
   "id": "9b67445a-8c64-4636-983a-22a6ccfdbc8f",
   "metadata": {},
   "outputs": [
    {
     "name": "stdout",
     "output_type": "stream",
     "text": [
      "    Unnamed: 0  n_estimators  max_samples       MSE      RMSE       MAE  \\\n",
      "0            0            10          0.5  0.000026  0.005124  0.004260   \n",
      "1            0            10          0.6  0.000024  0.004889  0.003883   \n",
      "2            0            10          0.7  0.000020  0.004454  0.003662   \n",
      "3            0            10          0.8  0.000022  0.004653  0.003778   \n",
      "4            0            10          0.9  0.000027  0.005160  0.004460   \n",
      "5            0            20          0.5  0.000023  0.004833  0.004218   \n",
      "6            0            20          0.6  0.000022  0.004685  0.003944   \n",
      "7            0            20          0.7  0.000021  0.004577  0.003832   \n",
      "8            0            20          0.8  0.000021  0.004562  0.003816   \n",
      "9            0            20          0.9  0.000023  0.004751  0.004077   \n",
      "10           0            50          0.5  0.000024  0.004851  0.004157   \n",
      "11           0            50          0.6  0.000021  0.004594  0.003902   \n",
      "12           0            50          0.7  0.000020  0.004493  0.003754   \n",
      "13           0            50          0.8  0.000021  0.004578  0.003897   \n",
      "14           0            50          0.9  0.000020  0.004463  0.003805   \n",
      "15           0           100          0.5  0.000024  0.004851  0.004206   \n",
      "16           0           100          0.6  0.000022  0.004742  0.004128   \n",
      "17           0           100          0.7  0.000021  0.004535  0.003891   \n",
      "18           0           100          0.8  0.000021  0.004597  0.003954   \n",
      "19           0           100          0.9  0.000021  0.004554  0.003929   \n",
      "20           0           200          0.5  0.000023  0.004754  0.004125   \n",
      "21           0           200          0.6  0.000022  0.004699  0.004078   \n",
      "22           0           200          0.7  0.000021  0.004581  0.003956   \n",
      "23           0           200          0.8  0.000021  0.004612  0.003987   \n",
      "24           0           200          0.9  0.000021  0.004630  0.004021   \n",
      "\n",
      "        MAPE        R2  \n",
      "0   0.725290  0.749669  \n",
      "1   0.734261  0.772166  \n",
      "2   0.667307  0.810903  \n",
      "3   0.699726  0.793612  \n",
      "4   0.831917  0.746127  \n",
      "5   0.754359  0.777318  \n",
      "6   0.735970  0.790725  \n",
      "7   0.750048  0.800262  \n",
      "8   0.746060  0.801632  \n",
      "9   0.745552  0.784821  \n",
      "10  0.786001  0.775614  \n",
      "11  0.734744  0.798766  \n",
      "12  0.721805  0.807527  \n",
      "13  0.769467  0.800170  \n",
      "14  0.757863  0.810147  \n",
      "15  0.753603  0.775669  \n",
      "16  0.783437  0.785607  \n",
      "17  0.736169  0.803914  \n",
      "18  0.774894  0.798573  \n",
      "19  0.778974  0.802281  \n",
      "20  0.724779  0.784570  \n",
      "21  0.759460  0.789458  \n",
      "22  0.739567  0.799898  \n",
      "23  0.767312  0.797184  \n",
      "24  0.786647  0.795668  \n"
     ]
    }
   ],
   "source": [
    "error = pd.read_csv('random_forest/errors_sa.csv')\n",
    "print(error)"
   ]
  },
  {
   "cell_type": "markdown",
   "id": "f43eb897-be4b-410e-ac5c-7c4f6ba7f13a",
   "metadata": {},
   "source": [
    "We get the best results for n_estimator = 10 and max_sample = 0.7. Let us plot the predictions."
   ]
  },
  {
   "cell_type": "code",
   "execution_count": 5,
   "id": "6fcaaacc-285c-445d-bf0b-ad61a4f28f18",
   "metadata": {},
   "outputs": [],
   "source": [
    "features_sa = [('sales_raw', 1),\n",
    "               ('inventory_raw', 1),\n",
    "               ('new_listings_raw', 1),\n",
    "               ('mean_days_to_pending_raw', 1),\n",
    "               ('mean_sale_to_list_ratio_raw', 2),\n",
    "               ('median_days_to_pending_raw', 1),\n",
    "               ('median_sale_to_list_ratio_raw', 2),\n",
    "               ('newly_pending_listings_raw', 1),\n",
    "               ('pct_listings_price_cut_raw', 1),\n",
    "               ('pct_sold_above_list_price_raw', 2),\n",
    "               ('pct_sold_below_list_price_raw', 2)]"
   ]
  },
  {
   "cell_type": "code",
   "execution_count": 6,
   "id": "802e2e7d-c21d-445f-b9fb-644d312ab59e",
   "metadata": {},
   "outputs": [],
   "source": [
    "(y, y_hat) = backtest(features_sa, 10, 0.7, ds_begin, ds_end, 36, True)"
   ]
  },
  {
   "cell_type": "code",
   "execution_count": 7,
   "id": "1d59caf4-798e-4d4e-b41d-f667d37ac964",
   "metadata": {},
   "outputs": [],
   "source": [
    "MSE = mean_squared_error(y, y_hat)\n",
    "RMSE = sqrt(mean_squared_error(y, y_hat))\n",
    "MAE = mean_absolute_error(y, y_hat)\n",
    "MAPE = mean_absolute_percentage_error(y, y_hat)\n",
    "R2 = r2_score(y, y_hat)"
   ]
  },
  {
   "cell_type": "code",
   "execution_count": 8,
   "id": "14fe0e84-efdc-4b43-b5fe-e9cef89211a4",
   "metadata": {},
   "outputs": [
    {
     "name": "stderr",
     "output_type": "stream",
     "text": [
      "The PostScript backend does not support transparency; partially transparent artists will be rendered opaque.\n"
     ]
    },
    {
     "data": {
      "image/png": "[encoded data removed]",
      "text/plain": [
       "<Figure size 432x288 with 1 Axes>"
      ]
     },
     "metadata": {
      "needs_background": "light"
     },
     "output_type": "display_data"
    }
   ],
   "source": [
    "fig, ax = plt.subplots()\n",
    "\n",
    "plt.plot(dates, 100 * y, 'b-', label='Actual')\n",
    "plt.plot(dates, 100 * y_hat, 'r-', label='Predicted')\n",
    "\n",
    "plt.xlabel('Date', fontsize=16)\n",
    "plt.ylabel('Home price growth (%)', fontsize=16)\n",
    "ax.tick_params(axis='x', labelsize=16)\n",
    "ax.tick_params(axis='y', labelsize=16)\n",
    "ax.xaxis.set_ticks([datetime(2021, 10, 1), datetime(2022, 6, 1), datetime(2023, 2, 1)])\n",
    "plt.legend(fontsize=12)\n",
    "plt.title('Home price growth (%)', fontsize=16)\n",
    "\n",
    "plt.tight_layout()\n",
    "plt.savefig('figures/random_forest.eps', format='eps')\n",
    "plt.show()"
   ]
  },
  {
   "cell_type": "markdown",
   "id": "7c327d04-4fc7-4378-9337-50f0fe1499f6",
   "metadata": {},
   "source": [
    "## Predictions when keeping the seasonality"
   ]
  },
  {
   "cell_type": "code",
   "execution_count": 9,
   "id": "ef066259-99cd-40ae-849b-dd2e1bc1a5c0",
   "metadata": {},
   "outputs": [
    {
     "name": "stdout",
     "output_type": "stream",
     "text": [
      "    Unnamed: 0  n_estimators  max_samples       MSE      RMSE       MAE  \\\n",
      "0            0            10          0.5  0.000045  0.006733  0.005851   \n",
      "1            0            10          0.6  0.000043  0.006538  0.005638   \n",
      "2            0            10          0.7  0.000045  0.006727  0.005733   \n",
      "3            0            10          0.8  0.000043  0.006532  0.005663   \n",
      "4            0            10          0.9  0.000043  0.006566  0.005533   \n",
      "5            0            20          0.5  0.000045  0.006679  0.005771   \n",
      "6            0            20          0.6  0.000045  0.006706  0.005812   \n",
      "7            0            20          0.7  0.000047  0.006892  0.005829   \n",
      "8            0            20          0.8  0.000047  0.006835  0.005924   \n",
      "9            0            20          0.9  0.000045  0.006690  0.005763   \n",
      "10           0            50          0.5  0.000046  0.006777  0.005859   \n",
      "11           0            50          0.6  0.000049  0.006971  0.006139   \n",
      "12           0            50          0.7  0.000048  0.006909  0.006015   \n",
      "13           0            50          0.8  0.000049  0.007026  0.006107   \n",
      "14           0            50          0.9  0.000046  0.006781  0.005760   \n",
      "15           0           100          0.5  0.000047  0.006884  0.005850   \n",
      "16           0           100          0.6  0.000050  0.007067  0.006110   \n",
      "17           0           100          0.7  0.000050  0.007070  0.006113   \n",
      "18           0           100          0.8  0.000050  0.007104  0.006119   \n",
      "19           0           100          0.9  0.000049  0.007029  0.005966   \n",
      "20           0           200          0.5  0.000049  0.007002  0.006019   \n",
      "21           0           200          0.6  0.000049  0.007006  0.006020   \n",
      "22           0           200          0.7  0.000048  0.006903  0.005924   \n",
      "23           0           200          0.8  0.000048  0.006915  0.005907   \n",
      "24           0           200          0.9  0.000046  0.006753  0.005662   \n",
      "\n",
      "        MAPE        R2  \n",
      "0   1.794810  0.567762  \n",
      "1   1.787341  0.592436  \n",
      "2   1.617953  0.568544  \n",
      "3   1.962810  0.593182  \n",
      "4   1.947636  0.588970  \n",
      "5   1.532648  0.574712  \n",
      "6   1.688993  0.571324  \n",
      "7   1.672540  0.547200  \n",
      "8   1.980624  0.554653  \n",
      "9   2.002919  0.573255  \n",
      "10  1.763850  0.562194  \n",
      "11  2.009652  0.536720  \n",
      "12  1.973021  0.544968  \n",
      "13  2.103619  0.529333  \n",
      "14  2.107984  0.561691  \n",
      "15  1.700634  0.548245  \n",
      "16  1.887522  0.523890  \n",
      "17  1.981869  0.523408  \n",
      "18  1.998877  0.518875  \n",
      "19  2.112108  0.528999  \n",
      "20  1.814163  0.532569  \n",
      "21  1.943918  0.532019  \n",
      "22  1.963143  0.545672  \n",
      "23  1.958689  0.544172  \n",
      "24  1.949786  0.565191  \n"
     ]
    }
   ],
   "source": [
    "error = pd.read_csv('random_forest/errors_nsa.csv')\n",
    "print(error)"
   ]
  },
  {
   "cell_type": "markdown",
   "id": "7848fa97-dd6f-4d19-9d2a-22c0620ffe2e",
   "metadata": {},
   "source": [
    "We get the best results for n_estimator = 10 and max_sample = 0.8. Let us plot the predictions."
   ]
  },
  {
   "cell_type": "code",
   "execution_count": 10,
   "id": "ba68d576-d774-4f51-a635-21f6bad25f1e",
   "metadata": {},
   "outputs": [],
   "source": [
    "features_nsa = [('sales_raw', 1),\n",
    "                ('inventory_raw', 2),\n",
    "                ('new_listings_raw', 5),\n",
    "                ('mean_days_to_pending_raw', 1),\n",
    "                ('mean_sale_to_list_ratio_raw', 2),\n",
    "                ('median_days_to_pending_raw', 1),\n",
    "                ('median_sale_to_list_ratio_raw', 2),\n",
    "                ('newly_pending_listings_raw', 1),\n",
    "                ('pct_listings_price_cut_raw', 2),\n",
    "                ('pct_sold_above_list_price_raw', 2),\n",
    "                ('pct_sold_below_list_price_raw', 2)]"
   ]
  },
  {
   "cell_type": "code",
   "execution_count": 11,
   "id": "33d0f237-0af2-4dea-8cf1-8fa240f22f9e",
   "metadata": {},
   "outputs": [],
   "source": [
    "(y, y_hat) = backtest(features_nsa, 10, 0.8, ds_begin, ds_end, 36, False)"
   ]
  },
  {
   "cell_type": "code",
   "execution_count": 12,
   "id": "a702f93c-7e87-407b-905c-22b0a3eab93e",
   "metadata": {},
   "outputs": [],
   "source": [
    "MSE = mean_squared_error(y, y_hat)\n",
    "RMSE = sqrt(mean_squared_error(y, y_hat))\n",
    "MAE = mean_absolute_error(y, y_hat)\n",
    "MAPE = mean_absolute_percentage_error(y, y_hat)\n",
    "R2 = r2_score(y, y_hat)"
   ]
  },
  {
   "cell_type": "code",
   "execution_count": 13,
   "id": "91033a83-334d-4b6a-a0ce-95088802085f",
   "metadata": {},
   "outputs": [
    {
     "data": {
      "text/plain": [
       "Text(0.5, 1.0, 'Non seasonally adjusted ensemble model')"
      ]
     },
     "execution_count": 13,
     "metadata": {},
     "output_type": "execute_result"
    },
    {
     "data": {
      "image/png": "[encoded data removed]",
      "text/plain": [
       "<Figure size 432x288 with 1 Axes>"
      ]
     },
     "metadata": {
      "needs_background": "light"
     },
     "output_type": "display_data"
    }
   ],
   "source": [
    "plt.plot(dates, 100 * y, 'b-', label='Actual')\n",
    "plt.plot(dates, 100 * y_hat, 'r-', label='Predicted')\n",
    "plt.xlabel('Date')\n",
    "plt.ylabel('Home price growth (%)')\n",
    "plt.legend()\n",
    "plt.title('Non seasonally adjusted ensemble model')"
   ]
  },
  {
   "cell_type": "code",
   "execution_count": null,
   "id": "bf1b5cd0-06c1-49a1-897f-fd48a0eeed71",
   "metadata": {},
   "outputs": [],
   "source": []
  }
 ],
 "metadata": {
  "kernelspec": {
   "display_name": "Python 3 (ipykernel)",
   "language": "python",
   "name": "python3"
  },
  "language_info": {
   "codemirror_mode": {
    "name": "ipython",
    "version": 3
   },
   "file_extension": ".py",
   "mimetype": "text/x-python",
   "name": "python",
   "nbconvert_exporter": "python",
   "pygments_lexer": "ipython3",
   "version": "3.7.12"
  }
 },
 "nbformat": 4,
 "nbformat_minor": 5
}
