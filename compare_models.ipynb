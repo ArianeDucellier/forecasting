{
 "cells": [
  {
   "cell_type": "markdown",
   "id": "bdd5d9e5-97fe-4916-894b-f1f8ef3addde",
   "metadata": {},
   "source": [
    "# Model comparison"
   ]
  },
  {
   "cell_type": "markdown",
   "id": "8704bee6-966b-47ca-b4f3-9024f13f2bbc",
   "metadata": {},
   "source": [
    "This notebook is to compare the performance of the different models."
   ]
  },
  {
   "cell_type": "code",
   "execution_count": 1,
   "id": "388e1fbc-888b-40a9-90ab-92cc71f33fb8",
   "metadata": {},
   "outputs": [],
   "source": [
    "import matplotlib.pylab as pylab\n",
    "import matplotlib.pyplot as plt\n",
    "import numpy as np\n",
    "import pandas as pd"
   ]
  },
  {
   "cell_type": "code",
   "execution_count": 2,
   "id": "44f8ab49-a37c-40ae-a308-6665c49bec26",
   "metadata": {},
   "outputs": [],
   "source": [
    "errors = []"
   ]
  },
  {
   "cell_type": "markdown",
   "id": "3b651e45-75e0-46a7-b3ec-6a3d7e113d99",
   "metadata": {},
   "source": [
    "Linear regression. Feature = Percentage of listings with price cut. Seasonally adjusted data and non-seasonally adjusted data."
   ]
  },
  {
   "cell_type": "code",
   "execution_count": 3,
   "id": "5e3e6ebd-4d40-4e97-a7a5-b1b5aa304aa8",
   "metadata": {},
   "outputs": [],
   "source": [
    "df = pd.read_csv('linear_regression/errors.csv', \\\n",
    "    index_col=0).reset_index().drop(columns=['index'])\n",
    "df = df.iloc[16:18]\n",
    "df['model'] = ['Linear regression (SA)', 'Linear regression (NSA)']\n",
    "df.drop(columns=['feature', 'lag'], inplace=True)"
   ]
  },
  {
   "cell_type": "code",
   "execution_count": 4,
   "id": "414689a6-bb9f-47f1-89bb-69071a8ce9aa",
   "metadata": {},
   "outputs": [],
   "source": [
    "errors.append(df)"
   ]
  },
  {
   "cell_type": "markdown",
   "id": "9775186d-3fd9-4d4c-b938-521430e4c865",
   "metadata": {},
   "source": [
    "Ensemble model (bagging with linear regression). Seasonally adjusted data."
   ]
  },
  {
   "cell_type": "code",
   "execution_count": 5,
   "id": "fcfbbe72-85f3-4478-a74b-58e93e4bd9bc",
   "metadata": {},
   "outputs": [],
   "source": [
    "df = pd.read_csv('ensemble_LR/errors_sa.csv', \\\n",
    "    index_col=0).reset_index().drop(columns=['index'])\n",
    "df = df.iloc[[9]]\n",
    "df['model'] = ['Ensemble model (SA)']\n",
    "df.drop(columns=['n_estimators', 'max_samples'], inplace=True)"
   ]
  },
  {
   "cell_type": "code",
   "execution_count": 6,
   "id": "dae77922-819a-464d-9065-a00bb74fc3b8",
   "metadata": {},
   "outputs": [],
   "source": [
    "errors.append(df)"
   ]
  },
  {
   "cell_type": "markdown",
   "id": "bfdfb110-093f-452b-91b5-5cd229487d78",
   "metadata": {},
   "source": [
    "Ensemble model (bagging with linear regression). Non-seasonally adjusted data."
   ]
  },
  {
   "cell_type": "code",
   "execution_count": 7,
   "id": "df5cec10-4d00-47ba-96f4-260ff5693773",
   "metadata": {},
   "outputs": [],
   "source": [
    "df = pd.read_csv('ensemble_LR/errors_nsa.csv', \\\n",
    "    index_col=0).reset_index().drop(columns=['index'])\n",
    "df = df.iloc[[17]]\n",
    "df['model'] = ['Ensemble model (NSA)']\n",
    "df.drop(columns=['n_estimators', 'max_samples'], inplace=True)"
   ]
  },
  {
   "cell_type": "code",
   "execution_count": 8,
   "id": "dd5e15b7-e8bf-49ec-9b9d-a6e3691f77c6",
   "metadata": {},
   "outputs": [],
   "source": [
    "errors.append(df)"
   ]
  },
  {
   "cell_type": "markdown",
   "id": "a83d5336-baff-4042-8559-2ecc79f39374",
   "metadata": {},
   "source": [
    "Random forest. Seasonally adjusted data."
   ]
  },
  {
   "cell_type": "code",
   "execution_count": 9,
   "id": "c64d0190-ed55-4719-b88d-d9a610d85903",
   "metadata": {},
   "outputs": [],
   "source": [
    "df = pd.read_csv('random_forest/errors_sa.csv', \\\n",
    "    index_col=0).reset_index().drop(columns=['index'])\n",
    "df = df.iloc[[2]]\n",
    "df['model'] = ['Random forest (SA)']\n",
    "df.drop(columns=['n_estimators', 'max_samples'], inplace=True)"
   ]
  },
  {
   "cell_type": "code",
   "execution_count": 10,
   "id": "b292ff86-32f8-45d8-8f92-583dd66fb022",
   "metadata": {},
   "outputs": [],
   "source": [
    "errors.append(df)"
   ]
  },
  {
   "cell_type": "markdown",
   "id": "5521b712-bd19-4825-ad04-9b60e56e3d36",
   "metadata": {},
   "source": [
    "Random forest. Non-seasonally adjusted data."
   ]
  },
  {
   "cell_type": "code",
   "execution_count": 11,
   "id": "a2d557af-0174-4964-bc03-489c820c5661",
   "metadata": {},
   "outputs": [],
   "source": [
    "df = pd.read_csv('random_forest/errors_nsa.csv', \\\n",
    "    index_col=0).reset_index().drop(columns=['index'])\n",
    "df = df.iloc[[3]]\n",
    "df['model'] = ['Random forest (NSA)']\n",
    "df.drop(columns=['n_estimators', 'max_samples'], inplace=True)"
   ]
  },
  {
   "cell_type": "code",
   "execution_count": 12,
   "id": "341644e3-213f-4d5d-aeb7-594ca548d489",
   "metadata": {},
   "outputs": [],
   "source": [
    "errors.append(df)"
   ]
  },
  {
   "cell_type": "markdown",
   "id": "4aaa793d-e8e2-47a3-aa66-78806b37ed70",
   "metadata": {},
   "source": [
    "XGBoost. Seasonally adjusted data."
   ]
  },
  {
   "cell_type": "code",
   "execution_count": 13,
   "id": "edd0a653-90b0-45c5-8563-eb749475d2cf",
   "metadata": {},
   "outputs": [],
   "source": [
    "df = pd.read_csv('XGBoost/errors_sa.csv', \\\n",
    "    index_col=0).reset_index().drop(columns=['index'])\n",
    "df = df.iloc[[21]]\n",
    "df['model'] = ['XGBoost (SA)']\n",
    "df.drop(columns=['n_estimators', 'max_depths'], inplace=True)"
   ]
  },
  {
   "cell_type": "code",
   "execution_count": 14,
   "id": "1a7cfa24-20d1-4e93-8d7d-b31f10a2255c",
   "metadata": {},
   "outputs": [],
   "source": [
    "errors.append(df)"
   ]
  },
  {
   "cell_type": "markdown",
   "id": "7716b381-32b6-4f62-bde9-4ac491d9d10d",
   "metadata": {},
   "source": [
    "XGBoost. Non-seasonally adjusted data."
   ]
  },
  {
   "cell_type": "code",
   "execution_count": 15,
   "id": "317648d6-e03e-462c-af89-4048b9b49daa",
   "metadata": {},
   "outputs": [],
   "source": [
    "df = pd.read_csv('XGBoost/errors_nsa.csv', \\\n",
    "    index_col=0).reset_index().drop(columns=['index'])\n",
    "df = df.iloc[[16]]\n",
    "df['model'] = ['XGBoost (NSA)']\n",
    "df.drop(columns=['n_estimators', 'max_depths'], inplace=True)"
   ]
  },
  {
   "cell_type": "code",
   "execution_count": 16,
   "id": "27b257e0-7332-4179-86ca-c57d1d9632cd",
   "metadata": {},
   "outputs": [],
   "source": [
    "errors.append(df)"
   ]
  },
  {
   "cell_type": "markdown",
   "id": "c9d4eaa1-9af8-4899-82f3-b379346d2bd1",
   "metadata": {},
   "source": [
    "LSTM. Seasonally adjsuted data."
   ]
  },
  {
   "cell_type": "code",
   "execution_count": 17,
   "id": "02a08af7-7d39-43e8-ae07-f17cd4609a36",
   "metadata": {},
   "outputs": [],
   "source": [
    "df = pd.read_csv('LSTM/errors_sa.csv', \\\n",
    "    index_col=0).reset_index().drop(columns=['index'])\n",
    "df = df.iloc[[20]]\n",
    "df['model'] = ['LSTM (SA)']\n",
    "df.drop(columns=['hidden_units', 'num_layers', 'sequence_lengths'], inplace=True)"
   ]
  },
  {
   "cell_type": "code",
   "execution_count": 18,
   "id": "be5577d1-dd25-4bb5-a7ce-a27e58fbeabd",
   "metadata": {},
   "outputs": [],
   "source": [
    "errors.append(df)"
   ]
  },
  {
   "cell_type": "markdown",
   "id": "efc4b3e9-9068-4aa5-93f8-56b41ce082d5",
   "metadata": {},
   "source": [
    "LSTM. Non-seasonally adjusted data."
   ]
  },
  {
   "cell_type": "code",
   "execution_count": 19,
   "id": "799780da-36de-4c2c-8516-6fab41bbf3e7",
   "metadata": {},
   "outputs": [],
   "source": [
    "df = pd.read_csv('LSTM/errors_nsa.csv', \\\n",
    "    index_col=0).reset_index().drop(columns=['index'])\n",
    "df = df.iloc[[23]]\n",
    "df['model'] = ['LSTM (NSA)']\n",
    "df.drop(columns=['hidden_units', 'num_layers', 'sequence_lengths'], inplace=True)"
   ]
  },
  {
   "cell_type": "code",
   "execution_count": 20,
   "id": "f6ab000f-0615-4738-b7c1-2d71a1d72295",
   "metadata": {},
   "outputs": [],
   "source": [
    "errors.append(df)"
   ]
  },
  {
   "cell_type": "markdown",
   "id": "4e982fa4-a691-4b36-a57e-359525ae7575",
   "metadata": {},
   "source": [
    "Join errors together and plot."
   ]
  },
  {
   "cell_type": "code",
   "execution_count": 21,
   "id": "150c2110-4d81-4887-b99d-f7a443fcb83b",
   "metadata": {},
   "outputs": [],
   "source": [
    "errors = pd.concat(errors).reset_index().drop(columns='index')"
   ]
  },
  {
   "cell_type": "code",
   "execution_count": 22,
   "id": "bf91ea12-1f56-42e7-afa3-f568c86ddb1f",
   "metadata": {},
   "outputs": [
    {
     "data": {
      "text/html": [
       "<div>\n",
       "<style scoped>\n",
       "    .dataframe tbody tr th:only-of-type {\n",
       "        vertical-align: middle;\n",
       "    }\n",
       "\n",
       "    .dataframe tbody tr th {\n",
       "        vertical-align: top;\n",
       "    }\n",
       "\n",
       "    .dataframe thead th {\n",
       "        text-align: right;\n",
       "    }\n",
       "</style>\n",
       "<table border=\"1\" class=\"dataframe\">\n",
       "  <thead>\n",
       "    <tr style=\"text-align: right;\">\n",
       "      <th></th>\n",
       "      <th>MSE</th>\n",
       "      <th>RMSE</th>\n",
       "      <th>MAE</th>\n",
       "      <th>MAPE</th>\n",
       "      <th>R2</th>\n",
       "      <th>model</th>\n",
       "    </tr>\n",
       "  </thead>\n",
       "  <tbody>\n",
       "    <tr>\n",
       "      <th>0</th>\n",
       "      <td>0.000010</td>\n",
       "      <td>0.003236</td>\n",
       "      <td>0.002510</td>\n",
       "      <td>0.381913</td>\n",
       "      <td>0.900160</td>\n",
       "      <td>Linear regression (SA)</td>\n",
       "    </tr>\n",
       "    <tr>\n",
       "      <th>1</th>\n",
       "      <td>0.000022</td>\n",
       "      <td>0.004741</td>\n",
       "      <td>0.003848</td>\n",
       "      <td>0.796023</td>\n",
       "      <td>0.785715</td>\n",
       "      <td>Linear regression (NSA)</td>\n",
       "    </tr>\n",
       "    <tr>\n",
       "      <th>2</th>\n",
       "      <td>0.000019</td>\n",
       "      <td>0.004369</td>\n",
       "      <td>0.003468</td>\n",
       "      <td>0.653733</td>\n",
       "      <td>0.818010</td>\n",
       "      <td>Ensemble model (SA)</td>\n",
       "    </tr>\n",
       "    <tr>\n",
       "      <th>3</th>\n",
       "      <td>0.000032</td>\n",
       "      <td>0.005623</td>\n",
       "      <td>0.004943</td>\n",
       "      <td>1.759244</td>\n",
       "      <td>0.698587</td>\n",
       "      <td>Ensemble model (NSA)</td>\n",
       "    </tr>\n",
       "    <tr>\n",
       "      <th>4</th>\n",
       "      <td>0.000020</td>\n",
       "      <td>0.004454</td>\n",
       "      <td>0.003662</td>\n",
       "      <td>0.667307</td>\n",
       "      <td>0.810903</td>\n",
       "      <td>Random forest (SA)</td>\n",
       "    </tr>\n",
       "    <tr>\n",
       "      <th>5</th>\n",
       "      <td>0.000043</td>\n",
       "      <td>0.006532</td>\n",
       "      <td>0.005663</td>\n",
       "      <td>1.962810</td>\n",
       "      <td>0.593182</td>\n",
       "      <td>Random forest (NSA)</td>\n",
       "    </tr>\n",
       "    <tr>\n",
       "      <th>6</th>\n",
       "      <td>0.000016</td>\n",
       "      <td>0.003948</td>\n",
       "      <td>0.003177</td>\n",
       "      <td>0.720852</td>\n",
       "      <td>0.851440</td>\n",
       "      <td>XGBoost (SA)</td>\n",
       "    </tr>\n",
       "    <tr>\n",
       "      <th>7</th>\n",
       "      <td>0.000054</td>\n",
       "      <td>0.007335</td>\n",
       "      <td>0.005826</td>\n",
       "      <td>2.462456</td>\n",
       "      <td>0.487143</td>\n",
       "      <td>XGBoost (NSA)</td>\n",
       "    </tr>\n",
       "    <tr>\n",
       "      <th>8</th>\n",
       "      <td>0.000026</td>\n",
       "      <td>0.005085</td>\n",
       "      <td>0.004341</td>\n",
       "      <td>1.084551</td>\n",
       "      <td>0.753499</td>\n",
       "      <td>LSTM (SA)</td>\n",
       "    </tr>\n",
       "    <tr>\n",
       "      <th>9</th>\n",
       "      <td>0.000030</td>\n",
       "      <td>0.005465</td>\n",
       "      <td>0.004348</td>\n",
       "      <td>1.202082</td>\n",
       "      <td>0.715282</td>\n",
       "      <td>LSTM (NSA)</td>\n",
       "    </tr>\n",
       "  </tbody>\n",
       "</table>\n",
       "</div>"
      ],
      "text/plain": [
       "        MSE      RMSE       MAE      MAPE        R2                    model\n",
       "0  0.000010  0.003236  0.002510  0.381913  0.900160   Linear regression (SA)\n",
       "1  0.000022  0.004741  0.003848  0.796023  0.785715  Linear regression (NSA)\n",
       "2  0.000019  0.004369  0.003468  0.653733  0.818010      Ensemble model (SA)\n",
       "3  0.000032  0.005623  0.004943  1.759244  0.698587     Ensemble model (NSA)\n",
       "4  0.000020  0.004454  0.003662  0.667307  0.810903       Random forest (SA)\n",
       "5  0.000043  0.006532  0.005663  1.962810  0.593182      Random forest (NSA)\n",
       "6  0.000016  0.003948  0.003177  0.720852  0.851440             XGBoost (SA)\n",
       "7  0.000054  0.007335  0.005826  2.462456  0.487143            XGBoost (NSA)\n",
       "8  0.000026  0.005085  0.004341  1.084551  0.753499                LSTM (SA)\n",
       "9  0.000030  0.005465  0.004348  1.202082  0.715282               LSTM (NSA)"
      ]
     },
     "execution_count": 22,
     "metadata": {},
     "output_type": "execute_result"
    }
   ],
   "source": [
    "errors"
   ]
  },
  {
   "cell_type": "markdown",
   "id": "e23f9ec4-b40b-4362-8ae5-5666441ec494",
   "metadata": {},
   "source": [
    "Linear regression."
   ]
  },
  {
   "cell_type": "code",
   "execution_count": 26,
   "id": "12764687-d507-45eb-82a5-bedf1edbc89b",
   "metadata": {},
   "outputs": [],
   "source": [
    "errors_1 = errors.loc[errors.model.isin(['Linear regression (SA)', \n",
    "                                         'Linear regression (NSA)'])]"
   ]
  },
  {
   "cell_type": "code",
   "execution_count": 29,
   "id": "581efbbe-5102-44f3-9d65-58867f4fae3c",
   "metadata": {},
   "outputs": [
    {
     "name": "stderr",
     "output_type": "stream",
     "text": [
      "/opt/anaconda3/envs/ntpp/lib/python3.7/site-packages/ipykernel_launcher.py:14: UserWarning: FixedFormatter should only be used together with FixedLocator\n",
      "  \n",
      "/opt/anaconda3/envs/ntpp/lib/python3.7/site-packages/ipykernel_launcher.py:19: UserWarning: FixedFormatter should only be used together with FixedLocator\n",
      "/opt/anaconda3/envs/ntpp/lib/python3.7/site-packages/ipykernel_launcher.py:24: UserWarning: FixedFormatter should only be used together with FixedLocator\n",
      "/opt/anaconda3/envs/ntpp/lib/python3.7/site-packages/ipykernel_launcher.py:29: UserWarning: FixedFormatter should only be used together with FixedLocator\n"
     ]
    },
    {
     "data": {
      "image/png": "[encoded data removed]",
      "text/plain": [
       "<Figure size 864x216 with 5 Axes>"
      ]
     },
     "metadata": {
      "needs_background": "light"
     },
     "output_type": "display_data"
    }
   ],
   "source": [
    "fig, (ax1, ax2, ax3, ax4, ax5) = plt.subplots(1, 5, figsize=(12, 3))\n",
    "fig.suptitle('Performance of forecasting models', fontsize=20)\n",
    "\n",
    "bar_labels = ['red', 'blue']\n",
    "bar_colors = ['tab:red', 'tab:blue']\n",
    "\n",
    "ax1.barh(errors_1['model'], errors_1['MSE'], label=bar_labels, color=bar_colors)\n",
    "ax1.set_title('MSE', fontsize=16)\n",
    "ax1.tick_params(axis='x', labelsize=14)\n",
    "ax1.tick_params(axis='y', labelsize=16)\n",
    "\n",
    "ax2.barh(errors_1['model'], errors_1['RMSE'], color=bar_colors)\n",
    "ax2.set_title('RMSE', fontsize=16)\n",
    "ax2.set_yticklabels(['', '', '', ''])\n",
    "ax2.tick_params(axis='x', labelsize=14)\n",
    "\n",
    "ax3.barh(errors_1['model'], errors_1['MAE'], color=bar_colors)\n",
    "ax3.set_title('MAE', fontsize=16)\n",
    "ax3.set_yticklabels(['', '', '', ''])\n",
    "ax3.tick_params(axis='x', labelsize=14)\n",
    "\n",
    "ax4.barh(errors_1['model'], errors_1['MAPE'], color=bar_colors)\n",
    "ax4.set_title('MAPE', fontsize=16)\n",
    "ax4.set_yticklabels(['', '', '', ''])\n",
    "ax4.tick_params(axis='x', labelsize=14)\n",
    "\n",
    "ax5.barh(errors_1['model'], errors_1['R2'], color=bar_colors)\n",
    "ax5.set_title('R2', fontsize=16)\n",
    "ax5.set_yticklabels(['', '', '', ''])\n",
    "ax5.tick_params(axis='x', labelsize=14)\n",
    "\n",
    "plt.tight_layout()\n",
    "plt.savefig('figures/comparisons_LR.eps', format='eps')\n",
    "plt.show()"
   ]
  },
  {
   "cell_type": "code",
   "execution_count": 30,
   "id": "dcd3b3bf-4bff-4718-964a-192d0e240922",
   "metadata": {},
   "outputs": [],
   "source": [
    "errors_2 = errors.loc[errors.model.isin(['Linear regression (SA)', \n",
    "                                         'Ensemble model (SA)',\n",
    "                                         'Random forest (SA)',\n",
    "                                         'XGBoost (SA)',\n",
    "                                         'LSTM (SA)'])]"
   ]
  },
  {
   "cell_type": "code",
   "execution_count": 34,
   "id": "b8478488-977b-4c95-a53d-5c400a3a5420",
   "metadata": {},
   "outputs": [
    {
     "name": "stderr",
     "output_type": "stream",
     "text": [
      "/opt/anaconda3/envs/ntpp/lib/python3.7/site-packages/ipykernel_launcher.py:14: UserWarning: FixedFormatter should only be used together with FixedLocator\n",
      "  \n",
      "/opt/anaconda3/envs/ntpp/lib/python3.7/site-packages/ipykernel_launcher.py:19: UserWarning: FixedFormatter should only be used together with FixedLocator\n",
      "/opt/anaconda3/envs/ntpp/lib/python3.7/site-packages/ipykernel_launcher.py:24: UserWarning: FixedFormatter should only be used together with FixedLocator\n",
      "/opt/anaconda3/envs/ntpp/lib/python3.7/site-packages/ipykernel_launcher.py:29: UserWarning: FixedFormatter should only be used together with FixedLocator\n"
     ]
    },
    {
     "data": {
      "image/png": "[encoded data removed]",
      "text/plain": [
       "<Figure size 864x216 with 5 Axes>"
      ]
     },
     "metadata": {
      "needs_background": "light"
     },
     "output_type": "display_data"
    }
   ],
   "source": [
    "fig, (ax1, ax2, ax3, ax4, ax5) = plt.subplots(1, 5, figsize=(12, 3))\n",
    "fig.suptitle('Performance of forecasting models', fontsize=20)\n",
    "\n",
    "bar_labels = ['red', 'blue', 'green', 'cyan', 'orange']\n",
    "bar_colors = ['tab:red', 'tab:blue', 'tab:green', 'tab:cyan', 'tab:orange']\n",
    "\n",
    "ax1.barh(errors_2['model'], errors_2['MSE'], label=bar_labels, color=bar_colors)\n",
    "ax1.set_title('MSE', fontsize=16)\n",
    "ax1.tick_params(axis='x', labelsize=14)\n",
    "ax1.tick_params(axis='y', labelsize=16)\n",
    "\n",
    "ax2.barh(errors_2['model'], errors_2['RMSE'], color=bar_colors)\n",
    "ax2.set_title('RMSE', fontsize=16)\n",
    "ax2.set_yticklabels(['', '', '', ''])\n",
    "ax2.tick_params(axis='x', labelsize=14)\n",
    "\n",
    "ax3.barh(errors_2['model'], errors_2['MAE'], color=bar_colors)\n",
    "ax3.set_title('MAE', fontsize=16)\n",
    "ax3.set_yticklabels(['', '', '', ''])\n",
    "ax3.tick_params(axis='x', labelsize=14)\n",
    "\n",
    "ax4.barh(errors_2['model'], errors_2['MAPE'], color=bar_colors)\n",
    "ax4.set_title('MAPE', fontsize=16)\n",
    "ax4.set_yticklabels(['', '', '', ''])\n",
    "ax4.tick_params(axis='x', labelsize=14)\n",
    "\n",
    "ax5.barh(errors_2['model'], errors_2['R2'], color=bar_colors)\n",
    "ax5.set_title('R2', fontsize=16)\n",
    "ax5.set_yticklabels(['', '', '', ''])\n",
    "ax5.tick_params(axis='x', labelsize=14)\n",
    "\n",
    "plt.tight_layout()\n",
    "plt.savefig('figures/comparisons_all.eps', format='eps')\n",
    "plt.show()"
   ]
  },
  {
   "cell_type": "code",
   "execution_count": null,
   "id": "d5353bb0-cf0f-44ba-82e1-946bf4f40e3f",
   "metadata": {},
   "outputs": [],
   "source": []
  }
 ],
 "metadata": {
  "kernelspec": {
   "display_name": "Python 3 (ipykernel)",
   "language": "python",
   "name": "python3"
  },
  "language_info": {
   "codemirror_mode": {
    "name": "ipython",
    "version": 3
   },
   "file_extension": ".py",
   "mimetype": "text/x-python",
   "name": "python",
   "nbconvert_exporter": "python",
   "pygments_lexer": "ipython3",
   "version": "3.7.12"
  }
 },
 "nbformat": 4,
 "nbformat_minor": 5
}
