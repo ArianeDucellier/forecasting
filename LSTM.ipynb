{
 "cells": [
  {
   "cell_type": "markdown",
   "id": "13e5d7df-21fc-47e7-877c-fb5faf5086a5",
   "metadata": {},
   "source": [
    "# LSTM"
   ]
  },
  {
   "cell_type": "markdown",
   "id": "9f66265e-be77-4d70-9859-78cd918586b8",
   "metadata": {},
   "source": [
    "Notebook to look at forecasts made using LSTM."
   ]
  },
  {
   "cell_type": "code",
   "execution_count": 1,
   "id": "237ad559-095d-4484-80c0-33bfefff6c80",
   "metadata": {},
   "outputs": [],
   "source": [
    "import matplotlib.pyplot as plt\n",
    "import numpy as np\n",
    "import pandas as pd\n",
    "\n",
    "from datetime import datetime\n",
    "from dateutil.relativedelta import relativedelta\n",
    "from math import sqrt\n",
    "\n",
    "from sklearn.metrics import mean_squared_error, mean_absolute_error, \\\n",
    "    mean_absolute_percentage_error, r2_score"
   ]
  },
  {
   "cell_type": "code",
   "execution_count": 2,
   "id": "09cbbe98-2c69-44c2-b9fd-c3d69ae6d6eb",
   "metadata": {},
   "outputs": [],
   "source": [
    "from LSTM import backtest"
   ]
  },
  {
   "cell_type": "code",
   "execution_count": 3,
   "id": "cb2209ff-e210-41a4-b2e1-bbff339e4347",
   "metadata": {},
   "outputs": [],
   "source": [
    "ds_begin = datetime(2021, 7, 1)\n",
    "ds_end = datetime(2023, 5, 1)\n",
    "dates = pd.date_range(ds_begin, ds_end + relativedelta(months=1), freq='1M') - \\\n",
    "pd.offsets.MonthBegin(1)"
   ]
  },
  {
   "cell_type": "markdown",
   "id": "60263c9e-0977-4704-a47c-442906b99145",
   "metadata": {},
   "source": [
    "## Predictions when removing the seasonality"
   ]
  },
  {
   "cell_type": "code",
   "execution_count": 4,
   "id": "9b67445a-8c64-4636-983a-22a6ccfdbc8f",
   "metadata": {},
   "outputs": [
    {
     "name": "stdout",
     "output_type": "stream",
     "text": [
      "    Unnamed: 0  hidden_units  num_layers  sequence_lengths       MSE  \\\n",
      "0            0            10           1                12  0.000030   \n",
      "1            0            10           1                18  0.000032   \n",
      "2            0            10           1                24  0.000030   \n",
      "3            0            10           2                12  0.000031   \n",
      "4            0            10           2                18  0.000035   \n",
      "5            0            10           2                24  0.000031   \n",
      "6            0            10           3                12  0.000036   \n",
      "7            0            10           3                18  0.000029   \n",
      "8            0            10           3                24  0.000032   \n",
      "9            0            12           1                12  0.000028   \n",
      "10           0            12           1                18  0.000033   \n",
      "11           0            12           1                24  0.000033   \n",
      "12           0            12           2                12  0.000034   \n",
      "13           0            12           2                18  0.000029   \n",
      "14           0            12           2                24  0.000034   \n",
      "15           0            12           3                12  0.000033   \n",
      "16           0            12           3                18  0.000030   \n",
      "17           0            12           3                24  0.000033   \n",
      "18           0            14           1                12  0.000027   \n",
      "19           0            14           1                18  0.000028   \n",
      "20           0            14           1                24  0.000026   \n",
      "21           0            14           2                12  0.000031   \n",
      "22           0            14           2                18  0.000031   \n",
      "23           0            14           2                24  0.000031   \n",
      "24           0            14           3                12  0.000029   \n",
      "25           0            14           3                18  0.000030   \n",
      "26           0            14           3                24  0.000034   \n",
      "\n",
      "        RMSE       MAE      MAPE        R2  \n",
      "0   0.005487  0.004507  1.166710  0.712988  \n",
      "1   0.005624  0.004760  1.287763  0.698436  \n",
      "2   0.005478  0.004579  1.077258  0.713964  \n",
      "3   0.005555  0.004460  1.033702  0.705864  \n",
      "4   0.005952  0.005047  1.238696  0.662283  \n",
      "5   0.005601  0.004744  1.007662  0.700892  \n",
      "6   0.005992  0.005090  1.244576  0.657738  \n",
      "7   0.005398  0.004656  1.219292  0.722238  \n",
      "8   0.005692  0.004855  1.235647  0.691131  \n",
      "9   0.005334  0.004279  0.883760  0.728723  \n",
      "10  0.005731  0.004655  1.162417  0.686924  \n",
      "11  0.005749  0.004679  0.977319  0.684940  \n",
      "12  0.005828  0.004993  1.056794  0.676223  \n",
      "13  0.005389  0.004507  1.105648  0.723106  \n",
      "14  0.005870  0.005024  1.185512  0.671463  \n",
      "15  0.005722  0.004812  1.053840  0.687813  \n",
      "16  0.005480  0.004652  1.086887  0.713695  \n",
      "17  0.005788  0.004782  1.230545  0.680644  \n",
      "18  0.005241  0.004387  0.920776  0.738128  \n",
      "19  0.005308  0.004434  1.005850  0.731351  \n",
      "20  0.005085  0.004341  1.084551  0.753499  \n",
      "21  0.005566  0.004719  1.183906  0.704684  \n",
      "22  0.005553  0.004536  1.107215  0.705983  \n",
      "23  0.005569  0.004744  1.097077  0.704291  \n",
      "24  0.005423  0.004424  1.036946  0.719584  \n",
      "25  0.005506  0.004692  1.161743  0.710955  \n",
      "26  0.005836  0.004844  1.052344  0.675336  \n"
     ]
    }
   ],
   "source": [
    "error = pd.read_csv('LSTM/errors_sa.csv')\n",
    "print(error)"
   ]
  },
  {
   "cell_type": "markdown",
   "id": "f43eb897-be4b-410e-ac5c-7c4f6ba7f13a",
   "metadata": {},
   "source": [
    "We get the best results for hidden_units = 14, num_layers = 1 and sequence_length = 24. Let us plot the predictions."
   ]
  },
  {
   "cell_type": "code",
   "execution_count": 5,
   "id": "6fcaaacc-285c-445d-bf0b-ad61a4f28f18",
   "metadata": {},
   "outputs": [],
   "source": [
    "features = ['sales_raw',\n",
    "            'inventory_raw',\n",
    "            'new_listings_raw',\n",
    "            'mean_days_to_pending_raw',\n",
    "            'mean_sale_to_list_ratio_raw',\n",
    "            'median_days_to_pending_raw',\n",
    "            'median_sale_to_list_ratio_raw',\n",
    "            'newly_pending_listings_raw',\n",
    "            'pct_listings_price_cut_raw',\n",
    "            'pct_sold_above_list_price_raw',\n",
    "            'pct_sold_below_list_price_raw']"
   ]
  },
  {
   "cell_type": "code",
   "execution_count": 6,
   "id": "802e2e7d-c21d-445f-b9fb-644d312ab59e",
   "metadata": {},
   "outputs": [
    {
     "name": "stdout",
     "output_type": "stream",
     "text": [
      "2021-07-01 00:00:00\n",
      "2021-08-01 00:00:00\n",
      "2021-09-01 00:00:00\n",
      "2021-10-01 00:00:00\n",
      "2021-11-01 00:00:00\n",
      "2021-12-01 00:00:00\n",
      "2022-01-01 00:00:00\n",
      "2022-02-01 00:00:00\n",
      "2022-03-01 00:00:00\n",
      "2022-04-01 00:00:00\n",
      "2022-05-01 00:00:00\n",
      "2022-06-01 00:00:00\n",
      "2022-07-01 00:00:00\n",
      "2022-08-01 00:00:00\n",
      "2022-09-01 00:00:00\n",
      "2022-10-01 00:00:00\n",
      "2022-11-01 00:00:00\n",
      "2022-12-01 00:00:00\n",
      "2023-01-01 00:00:00\n",
      "2023-02-01 00:00:00\n",
      "2023-03-01 00:00:00\n",
      "2023-04-01 00:00:00\n",
      "2023-05-01 00:00:00\n"
     ]
    }
   ],
   "source": [
    "batch_size = 4\n",
    "learning_rate = 5e-4\n",
    "n_epochs = 100\n",
    "(y, y_hat) = backtest(features, 14, 1, 24, \\\n",
    "    batch_size, learning_rate, n_epochs, ds_begin, ds_end, 36, True)"
   ]
  },
  {
   "cell_type": "code",
   "execution_count": 7,
   "id": "1d59caf4-798e-4d4e-b41d-f667d37ac964",
   "metadata": {},
   "outputs": [],
   "source": [
    "MSE = mean_squared_error(y, y_hat)\n",
    "RMSE = sqrt(mean_squared_error(y, y_hat))\n",
    "MAE = mean_absolute_error(y, y_hat)\n",
    "MAPE = mean_absolute_percentage_error(y, y_hat)\n",
    "R2 = r2_score(y, y_hat)"
   ]
  },
  {
   "cell_type": "code",
   "execution_count": 8,
   "id": "14fe0e84-efdc-4b43-b5fe-e9cef89211a4",
   "metadata": {},
   "outputs": [
    {
     "name": "stderr",
     "output_type": "stream",
     "text": [
      "The PostScript backend does not support transparency; partially transparent artists will be rendered opaque.\n"
     ]
    },
    {
     "data": {
      "image/png": "[encoded data removed]",
      "text/plain": [
       "<Figure size 432x288 with 1 Axes>"
      ]
     },
     "metadata": {
      "needs_background": "light"
     },
     "output_type": "display_data"
    }
   ],
   "source": [
    "fig, ax = plt.subplots()\n",
    "\n",
    "plt.plot(dates, 100 * y, 'b-', label='Actual')\n",
    "plt.plot(dates, 100 * y_hat, 'r-', label='Predicted')\n",
    "\n",
    "plt.xlabel('Date', fontsize=16)\n",
    "plt.ylabel('Home price growth (%)', fontsize=16)\n",
    "ax.tick_params(axis='x', labelsize=16)\n",
    "ax.tick_params(axis='y', labelsize=16)\n",
    "ax.xaxis.set_ticks([datetime(2021, 10, 1), datetime(2022, 6, 1), datetime(2023, 2, 1)])\n",
    "plt.legend(fontsize=12)\n",
    "plt.title('Home price growth (%)', fontsize=16)\n",
    "\n",
    "plt.tight_layout()\n",
    "plt.savefig('figures/LSTM.eps', format='eps')\n",
    "plt.show()"
   ]
  },
  {
   "cell_type": "markdown",
   "id": "7c327d04-4fc7-4378-9337-50f0fe1499f6",
   "metadata": {},
   "source": [
    "## Predictions when keeping the seasonality"
   ]
  },
  {
   "cell_type": "code",
   "execution_count": 9,
   "id": "ef066259-99cd-40ae-849b-dd2e1bc1a5c0",
   "metadata": {},
   "outputs": [
    {
     "name": "stdout",
     "output_type": "stream",
     "text": [
      "    Unnamed: 0  hidden_units  num_layers  sequence_lengths       MSE  \\\n",
      "0            0            10           1                12  0.000038   \n",
      "1            0            10           1                18  0.000042   \n",
      "2            0            10           1                24  0.000040   \n",
      "3            0            10           2                12  0.000043   \n",
      "4            0            10           2                18  0.000041   \n",
      "5            0            10           2                24  0.000037   \n",
      "6            0            10           3                12  0.000037   \n",
      "7            0            10           3                18  0.000036   \n",
      "8            0            10           3                24  0.000039   \n",
      "9            0            12           1                12  0.000038   \n",
      "10           0            12           1                18  0.000037   \n",
      "11           0            12           1                24  0.000044   \n",
      "12           0            12           2                12  0.000036   \n",
      "13           0            12           2                18  0.000030   \n",
      "14           0            12           2                24  0.000040   \n",
      "15           0            12           3                12  0.000040   \n",
      "16           0            12           3                18  0.000042   \n",
      "17           0            12           3                24  0.000036   \n",
      "18           0            14           1                12  0.000036   \n",
      "19           0            14           1                18  0.000036   \n",
      "20           0            14           1                24  0.000041   \n",
      "21           0            14           2                12  0.000034   \n",
      "22           0            14           2                18  0.000035   \n",
      "23           0            14           2                24  0.000030   \n",
      "24           0            14           3                12  0.000033   \n",
      "25           0            14           3                18  0.000031   \n",
      "26           0            14           3                24  0.000033   \n",
      "\n",
      "        RMSE       MAE      MAPE        R2  \n",
      "0   0.006193  0.005430  1.314447  0.634326  \n",
      "1   0.006502  0.005351  1.348801  0.596929  \n",
      "2   0.006311  0.005157  1.606356  0.620289  \n",
      "3   0.006571  0.005505  1.755332  0.588304  \n",
      "4   0.006434  0.005470  1.362393  0.605338  \n",
      "5   0.006047  0.004978  1.214014  0.651444  \n",
      "6   0.006052  0.004828  1.081589  0.650820  \n",
      "7   0.006040  0.004836  1.348081  0.652196  \n",
      "8   0.006268  0.005052  1.115941  0.625407  \n",
      "9   0.006166  0.005001  1.200435  0.637559  \n",
      "10  0.006093  0.004861  1.205457  0.646102  \n",
      "11  0.006638  0.005371  1.415230  0.579940  \n",
      "12  0.005980  0.004796  1.215376  0.659112  \n",
      "13  0.005522  0.004399  1.208653  0.709302  \n",
      "14  0.006292  0.004973  1.274554  0.622623  \n",
      "15  0.006362  0.004942  1.211541  0.614099  \n",
      "16  0.006506  0.005233  1.515686  0.596506  \n",
      "17  0.006034  0.004670  1.267041  0.652844  \n",
      "18  0.006038  0.004582  1.227099  0.652433  \n",
      "19  0.005991  0.004528  1.023908  0.657872  \n",
      "20  0.006367  0.005213  1.310551  0.613468  \n",
      "21  0.005852  0.004620  1.351427  0.673517  \n",
      "22  0.005953  0.004534  1.067448  0.662109  \n",
      "23  0.005465  0.004348  1.202082  0.715282  \n",
      "24  0.005784  0.004394  1.029339  0.681022  \n",
      "25  0.005590  0.004310  0.974005  0.702071  \n",
      "26  0.005743  0.004458  1.016469  0.685543  \n"
     ]
    }
   ],
   "source": [
    "error = pd.read_csv('LSTM/errors_nsa.csv')\n",
    "print(error)"
   ]
  },
  {
   "cell_type": "markdown",
   "id": "7848fa97-dd6f-4d19-9d2a-22c0620ffe2e",
   "metadata": {},
   "source": [
    "We get the best results for hidden_units = 14, num_layers = 2 and sequence_length = 24. Let us plot the predictions."
   ]
  },
  {
   "cell_type": "code",
   "execution_count": 10,
   "id": "ba68d576-d774-4f51-a635-21f6bad25f1e",
   "metadata": {},
   "outputs": [],
   "source": [
    "features = ['sales_raw',\n",
    "            'inventory_raw',\n",
    "            'new_listings_raw',\n",
    "            'mean_days_to_pending_raw',\n",
    "            'mean_sale_to_list_ratio_raw',\n",
    "            'median_days_to_pending_raw',\n",
    "            'median_sale_to_list_ratio_raw',\n",
    "            'newly_pending_listings_raw',\n",
    "            'pct_listings_price_cut_raw',\n",
    "            'pct_sold_above_list_price_raw',\n",
    "            'pct_sold_below_list_price_raw']"
   ]
  },
  {
   "cell_type": "code",
   "execution_count": 11,
   "id": "33d0f237-0af2-4dea-8cf1-8fa240f22f9e",
   "metadata": {},
   "outputs": [
    {
     "name": "stdout",
     "output_type": "stream",
     "text": [
      "2021-07-01 00:00:00\n",
      "2021-08-01 00:00:00\n",
      "2021-09-01 00:00:00\n",
      "2021-10-01 00:00:00\n",
      "2021-11-01 00:00:00\n",
      "2021-12-01 00:00:00\n",
      "2022-01-01 00:00:00\n",
      "2022-02-01 00:00:00\n",
      "2022-03-01 00:00:00\n",
      "2022-04-01 00:00:00\n",
      "2022-05-01 00:00:00\n",
      "2022-06-01 00:00:00\n",
      "2022-07-01 00:00:00\n",
      "2022-08-01 00:00:00\n",
      "2022-09-01 00:00:00\n",
      "2022-10-01 00:00:00\n",
      "2022-11-01 00:00:00\n",
      "2022-12-01 00:00:00\n",
      "2023-01-01 00:00:00\n",
      "2023-02-01 00:00:00\n",
      "2023-03-01 00:00:00\n",
      "2023-04-01 00:00:00\n",
      "2023-05-01 00:00:00\n"
     ]
    }
   ],
   "source": [
    "batch_size = 4\n",
    "learning_rate = 5e-4\n",
    "n_epochs = 100\n",
    "(y, y_hat) = backtest(features, 14, 2, 24, \\\n",
    "    batch_size, learning_rate, n_epochs, ds_begin, ds_end, 36, False)"
   ]
  },
  {
   "cell_type": "code",
   "execution_count": 12,
   "id": "a702f93c-7e87-407b-905c-22b0a3eab93e",
   "metadata": {},
   "outputs": [],
   "source": [
    "MSE = mean_squared_error(y, y_hat)\n",
    "RMSE = sqrt(mean_squared_error(y, y_hat))\n",
    "MAE = mean_absolute_error(y, y_hat)\n",
    "MAPE = mean_absolute_percentage_error(y, y_hat)\n",
    "R2 = r2_score(y, y_hat)"
   ]
  },
  {
   "cell_type": "code",
   "execution_count": 13,
   "id": "91033a83-334d-4b6a-a0ce-95088802085f",
   "metadata": {},
   "outputs": [
    {
     "data": {
      "text/plain": [
       "Text(0.5, 1.0, 'Non seasonally adjusted ensemble model')"
      ]
     },
     "execution_count": 13,
     "metadata": {},
     "output_type": "execute_result"
    },
    {
     "data": {
      "image/png": "[encoded data removed]",
      "text/plain": [
       "<Figure size 432x288 with 1 Axes>"
      ]
     },
     "metadata": {
      "needs_background": "light"
     },
     "output_type": "display_data"
    }
   ],
   "source": [
    "plt.plot(dates, 100 * y, 'b-', label='Actual')\n",
    "plt.plot(dates, 100 * y_hat, 'r-', label='Predicted')\n",
    "plt.xlabel('Date')\n",
    "plt.ylabel('Home price growth (%)')\n",
    "plt.legend()\n",
    "plt.title('Non seasonally adjusted ensemble model')"
   ]
  },
  {
   "cell_type": "code",
   "execution_count": null,
   "id": "bf1b5cd0-06c1-49a1-897f-fd48a0eeed71",
   "metadata": {},
   "outputs": [],
   "source": []
  }
 ],
 "metadata": {
  "kernelspec": {
   "display_name": "Python 3 (ipykernel)",
   "language": "python",
   "name": "python3"
  },
  "language_info": {
   "codemirror_mode": {
    "name": "ipython",
    "version": 3
   },
   "file_extension": ".py",
   "mimetype": "text/x-python",
   "name": "python",
   "nbconvert_exporter": "python",
   "pygments_lexer": "ipython3",
   "version": "3.7.12"
  }
 },
 "nbformat": 4,
 "nbformat_minor": 5
}
