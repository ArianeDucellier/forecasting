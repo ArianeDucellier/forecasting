{
 "cells": [
  {
   "cell_type": "markdown",
   "id": "13e5d7df-21fc-47e7-877c-fb5faf5086a5",
   "metadata": {},
   "source": [
    "# XGBoost"
   ]
  },
  {
   "cell_type": "markdown",
   "id": "9f66265e-be77-4d70-9859-78cd918586b8",
   "metadata": {},
   "source": [
    "Notebook to look at forecasts made using random XGBoost."
   ]
  },
  {
   "cell_type": "code",
   "execution_count": 1,
   "id": "237ad559-095d-4484-80c0-33bfefff6c80",
   "metadata": {},
   "outputs": [],
   "source": [
    "import matplotlib.pyplot as plt\n",
    "import numpy as np\n",
    "import pandas as pd\n",
    "\n",
    "from datetime import datetime\n",
    "from dateutil.relativedelta import relativedelta\n",
    "from math import sqrt\n",
    "\n",
    "from sklearn.metrics import mean_squared_error, mean_absolute_error, \\\n",
    "    mean_absolute_percentage_error, r2_score"
   ]
  },
  {
   "cell_type": "code",
   "execution_count": 2,
   "id": "09cbbe98-2c69-44c2-b9fd-c3d69ae6d6eb",
   "metadata": {},
   "outputs": [],
   "source": [
    "from XGBoost import backtest"
   ]
  },
  {
   "cell_type": "code",
   "execution_count": 3,
   "id": "cb2209ff-e210-41a4-b2e1-bbff339e4347",
   "metadata": {},
   "outputs": [],
   "source": [
    "ds_begin = datetime(2021, 7, 1)\n",
    "ds_end = datetime(2023, 5, 1)\n",
    "dates = pd.date_range(ds_begin, ds_end + relativedelta(months=1), freq='1M') - \\\n",
    "pd.offsets.MonthBegin(1)"
   ]
  },
  {
   "cell_type": "markdown",
   "id": "60263c9e-0977-4704-a47c-442906b99145",
   "metadata": {},
   "source": [
    "## Predictions when removing the seasonality"
   ]
  },
  {
   "cell_type": "code",
   "execution_count": 4,
   "id": "9b67445a-8c64-4636-983a-22a6ccfdbc8f",
   "metadata": {},
   "outputs": [
    {
     "name": "stdout",
     "output_type": "stream",
     "text": [
      "    Unnamed: 0  n_estimators  max_depths       MSE      RMSE       MAE  \\\n",
      "0            0            10           5  0.000369  0.019210  0.018041   \n",
      "1            0            10          10  0.000369  0.019210  0.018041   \n",
      "2            0            10          15  0.000369  0.019210  0.018041   \n",
      "3            0            10          20  0.000369  0.019210  0.018041   \n",
      "4            0            10          25  0.000369  0.019210  0.018041   \n",
      "5            0            20           5  0.000018  0.004288  0.003362   \n",
      "6            0            20          10  0.000018  0.004288  0.003361   \n",
      "7            0            20          15  0.000018  0.004288  0.003361   \n",
      "8            0            20          20  0.000018  0.004288  0.003361   \n",
      "9            0            20          25  0.000018  0.004288  0.003361   \n",
      "10           0            50           5  0.000016  0.003964  0.003190   \n",
      "11           0            50          10  0.000016  0.003948  0.003177   \n",
      "12           0            50          15  0.000016  0.003948  0.003177   \n",
      "13           0            50          20  0.000016  0.003948  0.003177   \n",
      "14           0            50          25  0.000016  0.003948  0.003177   \n",
      "15           0           100           5  0.000016  0.003964  0.003190   \n",
      "16           0           100          10  0.000016  0.003948  0.003177   \n",
      "17           0           100          15  0.000016  0.003948  0.003177   \n",
      "18           0           100          20  0.000016  0.003948  0.003177   \n",
      "19           0           100          25  0.000016  0.003948  0.003177   \n",
      "20           0           200           5  0.000016  0.003964  0.003190   \n",
      "21           0           200          10  0.000016  0.003948  0.003177   \n",
      "22           0           200          15  0.000016  0.003948  0.003177   \n",
      "23           0           200          20  0.000016  0.003948  0.003177   \n",
      "24           0           200          25  0.000016  0.003948  0.003177   \n",
      "\n",
      "        MAPE        R2  \n",
      "0   5.820311 -2.518043  \n",
      "1   5.820311 -2.518043  \n",
      "2   5.820311 -2.518043  \n",
      "3   5.820311 -2.518043  \n",
      "4   5.820311 -2.518043  \n",
      "5   0.726065  0.824680  \n",
      "6   0.726010  0.824734  \n",
      "7   0.726010  0.824734  \n",
      "8   0.726010  0.824734  \n",
      "9   0.726010  0.824734  \n",
      "10  0.727717  0.850180  \n",
      "11  0.720849  0.851440  \n",
      "12  0.720849  0.851440  \n",
      "13  0.720849  0.851440  \n",
      "14  0.720849  0.851440  \n",
      "15  0.727720  0.850180  \n",
      "16  0.720852  0.851440  \n",
      "17  0.720852  0.851440  \n",
      "18  0.720852  0.851440  \n",
      "19  0.720852  0.851440  \n",
      "20  0.727720  0.850180  \n",
      "21  0.720852  0.851440  \n",
      "22  0.720852  0.851440  \n",
      "23  0.720852  0.851440  \n",
      "24  0.720852  0.851440  \n"
     ]
    }
   ],
   "source": [
    "error = pd.read_csv('XGBoost/errors_sa.csv')\n",
    "print(error)"
   ]
  },
  {
   "cell_type": "markdown",
   "id": "f43eb897-be4b-410e-ac5c-7c4f6ba7f13a",
   "metadata": {},
   "source": [
    "We get the best results for n_estimator = 200 and max_depth = 10. Let us plot the predictions."
   ]
  },
  {
   "cell_type": "code",
   "execution_count": 10,
   "id": "6fcaaacc-285c-445d-bf0b-ad61a4f28f18",
   "metadata": {},
   "outputs": [],
   "source": [
    "features_sa = [('sales_raw', 1),\n",
    "               ('inventory_raw', 1),\n",
    "               ('new_listings_raw', 1),\n",
    "               ('mean_days_to_pending_raw', 1),\n",
    "               ('mean_sale_to_list_ratio_raw', 2),\n",
    "               ('median_days_to_pending_raw', 1),\n",
    "               ('median_sale_to_list_ratio_raw', 2),\n",
    "               ('newly_pending_listings_raw', 1),\n",
    "               ('pct_listings_price_cut_raw', 1),\n",
    "               ('pct_sold_above_list_price_raw', 2),\n",
    "               ('pct_sold_below_list_price_raw', 2)]"
   ]
  },
  {
   "cell_type": "code",
   "execution_count": 11,
   "id": "802e2e7d-c21d-445f-b9fb-644d312ab59e",
   "metadata": {},
   "outputs": [],
   "source": [
    "(y, y_hat) = backtest(features_sa, 200, 10, ds_begin, ds_end, 36, True)"
   ]
  },
  {
   "cell_type": "code",
   "execution_count": 7,
   "id": "1d59caf4-798e-4d4e-b41d-f667d37ac964",
   "metadata": {},
   "outputs": [],
   "source": [
    "MSE = mean_squared_error(y, y_hat)\n",
    "RMSE = sqrt(mean_squared_error(y, y_hat))\n",
    "MAE = mean_absolute_error(y, y_hat)\n",
    "MAPE = mean_absolute_percentage_error(y, y_hat)\n",
    "R2 = r2_score(y, y_hat)"
   ]
  },
  {
   "cell_type": "code",
   "execution_count": 12,
   "id": "14fe0e84-efdc-4b43-b5fe-e9cef89211a4",
   "metadata": {},
   "outputs": [
    {
     "name": "stderr",
     "output_type": "stream",
     "text": [
      "The PostScript backend does not support transparency; partially transparent artists will be rendered opaque.\n"
     ]
    },
    {
     "data": {
      "image/png": "[encoded data removed]",
      "text/plain": [
       "<Figure size 432x288 with 1 Axes>"
      ]
     },
     "metadata": {
      "needs_background": "light"
     },
     "output_type": "display_data"
    }
   ],
   "source": [
    "fig, ax = plt.subplots()\n",
    "\n",
    "plt.plot(dates, 100 * y, 'b-', label='Actual')\n",
    "plt.plot(dates, 100 * y_hat, 'r-', label='Predicted')\n",
    "\n",
    "plt.xlabel('Date', fontsize=16)\n",
    "plt.ylabel('Home price growth (%)', fontsize=16)\n",
    "ax.tick_params(axis='x', labelsize=16)\n",
    "ax.tick_params(axis='y', labelsize=16)\n",
    "ax.xaxis.set_ticks([datetime(2021, 10, 1), datetime(2022, 6, 1), datetime(2023, 2, 1)])\n",
    "plt.legend(fontsize=12)\n",
    "plt.title('Home price growth (%)', fontsize=16)\n",
    "\n",
    "plt.tight_layout()\n",
    "plt.savefig('figures/XGBoost.eps', format='eps')\n",
    "plt.show()"
   ]
  },
  {
   "cell_type": "markdown",
   "id": "7c327d04-4fc7-4378-9337-50f0fe1499f6",
   "metadata": {},
   "source": [
    "## Predictions when keeping the seasonality"
   ]
  },
  {
   "cell_type": "code",
   "execution_count": 13,
   "id": "ef066259-99cd-40ae-849b-dd2e1bc1a5c0",
   "metadata": {},
   "outputs": [
    {
     "name": "stdout",
     "output_type": "stream",
     "text": [
      "    Unnamed: 0  n_estimators  max_depths       MSE      RMSE       MAE  \\\n",
      "0            0            10           5  0.000473  0.021749  0.019699   \n",
      "1            0            10          10  0.000473  0.021749  0.019699   \n",
      "2            0            10          15  0.000473  0.021749  0.019699   \n",
      "3            0            10          20  0.000473  0.021749  0.019699   \n",
      "4            0            10          25  0.000473  0.021749  0.019699   \n",
      "5            0            20           5  0.000060  0.007720  0.006179   \n",
      "6            0            20          10  0.000060  0.007721  0.006124   \n",
      "7            0            20          15  0.000060  0.007721  0.006124   \n",
      "8            0            20          20  0.000060  0.007721  0.006124   \n",
      "9            0            20          25  0.000060  0.007721  0.006124   \n",
      "10           0            50           5  0.000054  0.007356  0.005902   \n",
      "11           0            50          10  0.000054  0.007335  0.005826   \n",
      "12           0            50          15  0.000054  0.007335  0.005826   \n",
      "13           0            50          20  0.000054  0.007335  0.005826   \n",
      "14           0            50          25  0.000054  0.007335  0.005826   \n",
      "15           0           100           5  0.000054  0.007356  0.005902   \n",
      "16           0           100          10  0.000054  0.007335  0.005826   \n",
      "17           0           100          15  0.000054  0.007335  0.005826   \n",
      "18           0           100          20  0.000054  0.007335  0.005826   \n",
      "19           0           100          25  0.000054  0.007335  0.005826   \n",
      "20           0           200           5  0.000054  0.007356  0.005902   \n",
      "21           0           200          10  0.000054  0.007335  0.005826   \n",
      "22           0           200          15  0.000054  0.007335  0.005826   \n",
      "23           0           200          20  0.000054  0.007335  0.005826   \n",
      "24           0           200          25  0.000054  0.007335  0.005826   \n",
      "\n",
      "        MAPE        R2  \n",
      "0   6.547385 -3.509728  \n",
      "1   6.547385 -3.509728  \n",
      "2   6.547385 -3.509728  \n",
      "3   6.547385 -3.509728  \n",
      "4   6.547385 -3.509728  \n",
      "5   2.419711  0.431771  \n",
      "6   2.419013  0.431709  \n",
      "7   2.419013  0.431709  \n",
      "8   2.419013  0.431709  \n",
      "9   2.419013  0.431709  \n",
      "10  2.460060  0.484073  \n",
      "11  2.462462  0.487140  \n",
      "12  2.462462  0.487140  \n",
      "13  2.462462  0.487140  \n",
      "14  2.462462  0.487140  \n",
      "15  2.460055  0.484075  \n",
      "16  2.462456  0.487143  \n",
      "17  2.462456  0.487143  \n",
      "18  2.462456  0.487143  \n",
      "19  2.462456  0.487143  \n",
      "20  2.460055  0.484075  \n",
      "21  2.462456  0.487143  \n",
      "22  2.462456  0.487143  \n",
      "23  2.462456  0.487143  \n",
      "24  2.462456  0.487143  \n"
     ]
    }
   ],
   "source": [
    "error = pd.read_csv('XGBoost/errors_nsa.csv')\n",
    "print(error)"
   ]
  },
  {
   "cell_type": "markdown",
   "id": "7848fa97-dd6f-4d19-9d2a-22c0620ffe2e",
   "metadata": {},
   "source": [
    "We get the best results for n_estimator = 100 and max_depth = 10. Let us plot the predictions."
   ]
  },
  {
   "cell_type": "code",
   "execution_count": 19,
   "id": "ba68d576-d774-4f51-a635-21f6bad25f1e",
   "metadata": {},
   "outputs": [],
   "source": [
    "features_nsa = [('sales_raw', 1),\n",
    "                ('inventory_raw', 2),\n",
    "                ('new_listings_raw', 5),\n",
    "                ('mean_days_to_pending_raw', 1),\n",
    "                ('mean_sale_to_list_ratio_raw', 2),\n",
    "                ('median_days_to_pending_raw', 1),\n",
    "                ('median_sale_to_list_ratio_raw', 2),\n",
    "                ('newly_pending_listings_raw', 1),\n",
    "                ('pct_listings_price_cut_raw', 2),\n",
    "                ('pct_sold_above_list_price_raw', 2),\n",
    "                ('pct_sold_below_list_price_raw', 2)]"
   ]
  },
  {
   "cell_type": "code",
   "execution_count": 20,
   "id": "33d0f237-0af2-4dea-8cf1-8fa240f22f9e",
   "metadata": {},
   "outputs": [],
   "source": [
    "(y, y_hat) = backtest(features_nsa, 100, 10, ds_begin, ds_end, 36, False)"
   ]
  },
  {
   "cell_type": "code",
   "execution_count": 21,
   "id": "a702f93c-7e87-407b-905c-22b0a3eab93e",
   "metadata": {},
   "outputs": [],
   "source": [
    "MSE = mean_squared_error(y, y_hat)\n",
    "RMSE = sqrt(mean_squared_error(y, y_hat))\n",
    "MAE = mean_absolute_error(y, y_hat)\n",
    "MAPE = mean_absolute_percentage_error(y, y_hat)\n",
    "R2 = r2_score(y, y_hat)"
   ]
  },
  {
   "cell_type": "code",
   "execution_count": 22,
   "id": "91033a83-334d-4b6a-a0ce-95088802085f",
   "metadata": {},
   "outputs": [
    {
     "data": {
      "text/plain": [
       "Text(0.5, 1.0, 'Non seasonally adjusted ensemble model')"
      ]
     },
     "execution_count": 22,
     "metadata": {},
     "output_type": "execute_result"
    },
    {
     "data": {
      "image/png": "[encoded data removed]",
      "text/plain": [
       "<Figure size 432x288 with 1 Axes>"
      ]
     },
     "metadata": {
      "needs_background": "light"
     },
     "output_type": "display_data"
    }
   ],
   "source": [
    "plt.plot(dates, 100 * y, 'b-', label='Actual')\n",
    "plt.plot(dates, 100 * y_hat, 'r-', label='Predicted')\n",
    "plt.xlabel('Date')\n",
    "plt.ylabel('Home price growth (%)')\n",
    "plt.legend()\n",
    "plt.title('Non seasonally adjusted ensemble model')"
   ]
  },
  {
   "cell_type": "code",
   "execution_count": null,
   "id": "bf1b5cd0-06c1-49a1-897f-fd48a0eeed71",
   "metadata": {},
   "outputs": [],
   "source": []
  }
 ],
 "metadata": {
  "kernelspec": {
   "display_name": "Python 3 (ipykernel)",
   "language": "python",
   "name": "python3"
  },
  "language_info": {
   "codemirror_mode": {
    "name": "ipython",
    "version": 3
   },
   "file_extension": ".py",
   "mimetype": "text/x-python",
   "name": "python",
   "nbconvert_exporter": "python",
   "pygments_lexer": "ipython3",
   "version": "3.7.12"
  }
 },
 "nbformat": 4,
 "nbformat_minor": 5
}
